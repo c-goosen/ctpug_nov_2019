{
 "cells": [
  {
   "cell_type": "markdown",
   "metadata": {
    "slideshow": {
     "slide_type": "slide"
    }
   },
   "source": [
    "# python3.8 and some lessons on asyncio\n",
    "\n",
    "# By Christo Goosen"
   ]
  },
  {
   "cell_type": "code",
   "execution_count": null,
   "metadata": {
    "slideshow": {
     "slide_type": "slide"
    }
   },
   "outputs": [],
   "source": [
    "# ~whoami\n",
    "\n",
    "* python dev / devops / CTO\n",
    "* Work: loading....\n",
    "* MsC Infosec at Rhodes\n",
    "* BSIDES Cape Town organiser\n",
    "* OWASP Cape Town leader\n",
    "* Likes: Python, Golang, Linux, DevOps, Security, Surfing, Star Wars, Conferences\n",
    "    \n",
    "## Follow Me:\n",
    "* Twitter: @crypticG00se / @OWASP_CPT\n",
    "* github: c-goosen\n",
    "* email: christo<at>christogoosen.co.za / christogoosen<at>gmail.com\n",
    "    website:\n"
   ]
  },
  {
   "cell_type": "markdown",
   "metadata": {
    "slideshow": {
     "slide_type": "slide"
    }
   },
   "source": [
    "# BSIDES Cape Town\n",
    "## 7 December 2019\n",
    "\n",
    "![alt text](bsides_cpt_ctpug.png \"Title\")\n",
    "\n",
    "\n",
    "Website:https://bsidescapetown.co.za/\n",
    "        \n",
    "Tickets: https://bsidescapetown.co.za/tickets/"
   ]
  },
  {
   "cell_type": "markdown",
   "metadata": {
    "slideshow": {
     "slide_type": "slide"
    }
   },
   "source": [
    "# BSIDES Cape Town Badge\n",
    "\n",
    "![alt text](bsides_cape_town_badge.png \"BSIDES Badge\")\n"
   ]
  },
  {
   "cell_type": "code",
   "execution_count": 13,
   "metadata": {
    "slideshow": {
     "slide_type": "slide"
    }
   },
   "outputs": [
    {
     "name": "stdout",
     "output_type": "stream",
     "text": [
      "sys.version_info(major=3, minor=8, micro=0, releaselevel='final', serial=0)\n"
     ]
    }
   ],
   "source": [
    "# Like a magician let me show you nothing under the sleaves\n",
    "import sys\n",
    "print(sys.version_info)"
   ]
  },
  {
   "cell_type": "markdown",
   "metadata": {
    "slideshow": {
     "slide_type": "slide"
    }
   },
   "source": [
    "# Outline\n",
    "\n",
    "* Python 3.8\n",
    "    * New Features\n",
    "    * Improvements\n",
    "* Asyncio\n",
    "    * Asyncio (Intro)\n",
    "    * Asyncio caveats\n",
    "    * Interesting Asyncio Projects\n"
   ]
  },
  {
   "cell_type": "markdown",
   "metadata": {
    "slideshow": {
     "slide_type": "slide"
    }
   },
   "source": [
    "# New Features\n",
    "* Walrus operator\n",
    "* Positional only parameters\n",
    "* New Pickling Protocol\n",
    "* Reversible Dictionaries\n",
    "* TypedDict\n",
    "* F-String Debugging Support\n",
    "* Multiprocessing shared memory\n",
    "* Typing module improvements\n",
    "* Performance improvements\n",
    "* Other Improvements¶\n"
   ]
  },
  {
   "cell_type": "markdown",
   "metadata": {
    "slideshow": {
     "slide_type": "slide"
    }
   },
   "source": [
    "# Walrus operator\n",
    "## AKA Assignment expressions\n",
    "\n",
    "There is new syntax := that assigns values to variables as part of a larger expression.\n",
    "    \n",
    "This could prevent a situation with:\n",
    "```python\n",
    "if len(your_list):\n",
    "      print(len(your_list))\n",
    "\n",
    "```"
   ]
  },
  {
   "cell_type": "markdown",
   "metadata": {},
   "source": [
    "# Instead of this:\n",
    "```python\n",
    "test_list = [1,2,3,4,5]\n",
    "if len(test_list)>1:\n",
    "    print(len(test_list))\n",
    "    \n",
    "```"
   ]
  },
  {
   "cell_type": "code",
   "execution_count": 14,
   "metadata": {
    "slideshow": {
     "slide_type": "slide"
    }
   },
   "outputs": [
    {
     "name": "stdout",
     "output_type": "stream",
     "text": [
      "True\n",
      "True\n",
      "<class 'str'>\n"
     ]
    }
   ],
   "source": [
    "print(walrus := True)\n",
    "\n",
    "def return_value() -> str:\n",
    "    return \"Walrus\"\n",
    "\n",
    "\n",
    "\n",
    "if walrus_two:= return_value() == \"Walrus\":\n",
    "        print(walrus_two)\n",
    "        \n",
    "        \n",
    "if (walrus_three := type(return_value())) == str:\n",
    "    print(walrus_three)\n",
    "    \n"
   ]
  },
  {
   "cell_type": "markdown",
   "metadata": {
    "slideshow": {
     "slide_type": "slide"
    }
   },
   "source": [
    "# Positional only parameters\n",
    "\n",
    "Parameter syntax / to indicate that some function parameters must be specified positionally and cannot be used as keyword arguments.\n",
    "\n",
    "When designing APIs (application programming interfaces), library authors try to ensure correct and intended usage of an API. Without the ability to specify which parameters are positional-only, library authors must be careful when choosing appropriate parameter names. This care must be taken even for required parameters or when the parameters have no external semantic meaning for callers of the API.\n",
    "```\n",
    "def f(a, b, /, c, d, *, e, f):\n",
    "    print(a, b, c, d, e, f)\n",
    "```\n",
    "\n",
    "Valid:\n",
    "```\n",
    "f(10, 20, 30, d=40, e=50, f=60)\n",
    "```\n",
    "\n",
    "Invalid:\n",
    "```\n",
    "f(10, b=20, c=30, d=40, e=50, f=60)   \n",
    "f(10, 20, 30, 40, 50, f=60)\n",
    "```\n"
   ]
  },
  {
   "cell_type": "markdown",
   "metadata": {
    "slideshow": {
     "slide_type": "slide"
    }
   },
   "source": [
    "# Pickling\n",
    "\n",
    "Python’s pickle module provides a way to serialize and deserialize Python data structures, for instance, to allow a dictionary to be saved as-is to a file and reloaded later.\n",
    "\n",
    "Different versions of Python support different levels of the pickle protocol, with more recent versions supporting a broader range of capabilities and more efficient serialization.\n",
    "\n",
    "When pickle is used to transfer large data between Python processes in order to take advantage of multi-core or multi-machine processing, it is important to optimize the transfer by reducing memory copies, and possibly by applying custom techniques such as data-dependent compression.\n",
    "\n",
    "Version 5 of pickle, introduced with Python 3.8, provides a new way to pickle objects that implement Python’s buffer protocol, such as bytes, memory views, or NumPy arrays.\n",
    "\n",
    "The new pickle cuts down on the number of memory copies that have to be made for such objects.\n",
    "\n",
    "The pickle protocol 5 introduces support for out-of-band buffers where PEP 3118-compatible data can be transmitted separately from the main pickle stream, at the discretion of the communication layer.\n",
    "\n",
    "External libraries like NumPy and Apache Arrow support the new pickleprotocol in their Python bindings. The new pickle is also available as an add-on for Python 3.6 and Python 3.7 from PyPI."
   ]
  },
  {
   "cell_type": "markdown",
   "metadata": {
    "slideshow": {
     "slide_type": "slide"
    }
   },
   "source": [
    "# Reversible Dictionaries\n",
    "\n",
    "Dictionaries in Python were totally rewritten in Python 3.6, using a new implementation contributed by the PyPy project. In addition to being faster and more compact, dictionaries now have inherent ordering for their elements; they’re ordered as they are added, much as with lists. Python 3.8 allows reversed() to be used on dictionaries."
   ]
  },
  {
   "cell_type": "code",
   "execution_count": 15,
   "metadata": {
    "slideshow": {
     "slide_type": "slide"
    }
   },
   "outputs": [
    {
     "name": "stdout",
     "output_type": "stream",
     "text": [
      "<class 'dict'>\n",
      "d\n",
      "c\n",
      "b\n",
      "a\n"
     ]
    }
   ],
   "source": [
    "\n",
    "temp_dict = dict(\n",
    "    a = \"a\",\n",
    "    b = 2,\n",
    "    c = 'Z',\n",
    "    d = 'd'\n",
    ")\n",
    "\n",
    "print(type(temp_dict))\n",
    "\n",
    "for x in reversed(temp_dict):\n",
    "    print(x)"
   ]
  },
  {
   "cell_type": "markdown",
   "metadata": {
    "slideshow": {
     "slide_type": "slide"
    }
   },
   "source": [
    "# Typed Dict\n",
    "\n",
    "\n",
    "A TypedDict type represents dictionary objects with a specific set of string keys, and with specific value types for each valid key. Each string key can be either required (it must be present) or non-required (it doesn't need to exist).\n",
    "\n",
    "```python\n",
    "\n",
    "from typing import TypedDict\n",
    "\n",
    "class Location(TypedDict, total=False):\n",
    "    lat_long: tuple\n",
    "    grid_square: str\n",
    "    xy_coordinate: tuple\n",
    "    confidence: int\n",
    "    \n",
    "```"
   ]
  },
  {
   "cell_type": "markdown",
   "metadata": {
    "slideshow": {
     "slide_type": "slide"
    }
   },
   "source": [
    "# F-strings debugging support\n",
    "\n",
    "When you use f-strings, you can enclose variables and even expressions inside curly braces. They will then be evaluated at runtime and included in the string. You can have several expressions in one f-string:\n",
    "\n",
    "However, the real f-news in Python 3.8 is the new debugging specifier. You can now add = at the end of an expression, and it will print both the expression and its value:\n"
   ]
  },
  {
   "cell_type": "code",
   "execution_count": 16,
   "metadata": {
    "slideshow": {
     "slide_type": "slide"
    }
   },
   "outputs": [
    {
     "name": "stdout",
     "output_type": "stream",
     "text": [
      "Diameter 7.6 gives circumference 23.88\n",
      "Diameter 7.6 gives circumference math.pi * diam=23.88\n"
     ]
    }
   ],
   "source": [
    "import math\n",
    "r = 3.8\n",
    "\n",
    "print(f\"Diameter {(diam := 2 * r)} gives circumference {math.pi * diam:.2f}\")\n",
    "\n",
    "print(f\"Diameter {(diam := 2 * r)} gives circumference {math.pi * diam=:.2f}\")\n",
    "\n"
   ]
  },
  {
   "cell_type": "markdown",
   "metadata": {
    "slideshow": {
     "slide_type": "slide"
    }
   },
   "source": [
    "# Multiprocessing shared memory\n",
    "\n",
    "With Python 3.8, the multiprocessing module now offers a SharedMemory class that allows regions of memory to be created and shared between different Python processes.\n",
    "\n",
    "In previous versions of Python, data could be shared between processes only by writing it out to a file, sending it over a network socket, or serializing it using Python’s pickle module. Shared memory provides a much faster path for passing data between processes, allowing Python to more efficiently use multiple processors and processor cores.\n",
    "\n",
    "Shared memory segments can be allocated as raw regions of bytes, or they can use immutable list-like objects that store a small subset of Python objects—numeric types, strings, byte objects, and the None object."
   ]
  },
  {
   "cell_type": "markdown",
   "metadata": {
    "slideshow": {
     "slide_type": "slide"
    }
   },
   "source": [
    "![alt text](multiprocessing-python-1.png  \"Multiprocessing\")"
   ]
  },
  {
   "cell_type": "markdown",
   "metadata": {
    "slideshow": {
     "slide_type": "slide"
    }
   },
   "source": [
    "![alt text](multiprocessing-python-2.png  \"Multiprocessing shared mem\")"
   ]
  },
  {
   "cell_type": "markdown",
   "metadata": {
    "slideshow": {
     "slide_type": "slide"
    }
   },
   "source": [
    "# Performance Improvements\n",
    "\n",
    "* Many built-in methods and functions have been sped up by 20% to 50%, as many of them were unnecessarily converting arguments passed to them.\n",
    "* A new opcode cache can speed up certain instructions in the interpreter. However, the only currently implemented speed-up is for the LOAD_GLOBAL opcode, now 40% faster. Similar optimizations are planned for later versions of Python.\n",
    "* File copying operations, such as shutil.copyfile() and shutil.copytree(), now use platform-specific calls and other optimizations to speed up operations.\n",
    "* Newly created lists are now, on average, 12% smaller than before, thanks to optimizations that make use of the length of the list constructor object if it is known beforehand.\n",
    "* Writes to class variables on new-style classes (e.g., class A(object)) are much faster in Python 3.8.\n",
    "* operator.itemgetter() and collections.namedtuple() also have new speed optimizations.\n"
   ]
  },
  {
   "cell_type": "markdown",
   "metadata": {
    "slideshow": {
     "slide_type": "slide"
    }
   },
   "source": [
    "```\n",
    "Python version                       3.3     3.4     3.5     3.6     3.7     3.8\n",
    "--------------                       ---     ---     ---     ---     ---     ---\n",
    "\n",
    "Variable and attribute read access:\n",
    "    read_local                       4.0     7.1     7.1     5.4     5.1     3.9\n",
    "    read_nonlocal                    5.3     7.1     8.1     5.8     5.4     4.4\n",
    "    read_global                     13.3    15.5    19.0    14.3    13.6     7.6\n",
    "    read_builtin                    20.0    21.1    21.6    18.5    19.0     7.5\n",
    "    read_classvar_from_class        20.5    25.6    26.5    20.7    19.5    18.4\n",
    "    read_classvar_from_instance     18.5    22.8    23.5    18.8    17.1    16.4\n",
    "    read_instancevar                26.8    32.4    33.1    28.0    26.3    25.4\n",
    "    read_instancevar_slots          23.7    27.8    31.3    20.8    20.8    20.2\n",
    "    read_namedtuple                 68.5    73.8    57.5    45.0    46.8    18.4\n",
    "    read_boundmethod                29.8    37.6    37.9    29.6    26.9    27.7\n",
    "\n",
    "Variable and attribute write access:\n",
    "    write_local                      4.6     8.7     9.3     5.5     5.3     4.3\n",
    "    write_nonlocal                   7.3    10.5    11.1     5.6     5.5     4.7\n",
    "    write_global                    15.9    19.7    21.2    18.0    18.0    15.8\n",
    "    write_classvar                  81.9    92.9    96.0   104.6   102.1    39.2\n",
    "    write_instancevar               36.4    44.6    45.8    40.0    38.9    35.5\n",
    "    write_instancevar_slots         28.7    35.6    36.1    27.3    26.6    25.7\n",
    "\n",
    "Data structure read access:\n",
    "    read_list                       19.2    24.2    24.5    20.8    20.8    19.0\n",
    "    read_deque                      19.9    24.7    25.5    20.2    20.6    19.8\n",
    "    read_dict                       19.7    24.3    25.7    22.3    23.0    21.0\n",
    "    read_strdict                    17.9    22.6    24.3    19.5    21.2    18.9\n",
    "\n",
    "Data structure write access:\n",
    "    write_list                      21.2    27.1    28.5    22.5    21.6    20.0\n",
    "    write_deque                     23.8    28.7    30.1    22.7    21.8    23.5\n",
    "    write_dict                      25.9    31.4    33.3    29.3    29.2    24.7\n",
    "    write_strdict                   22.9    28.4    29.9    27.5    25.2    23.1\n",
    "\n",
    "Stack (or queue) operations:\n",
    "    list_append_pop                144.2    93.4   112.7    75.4    74.2    50.8\n",
    "    deque_append_pop                30.4    43.5    57.0    49.4    49.2    42.5\n",
    "    deque_append_popleft            30.8    43.7    57.3    49.7    49.7    42.8\n",
    "\n",
    "Timing loop:\n",
    "    loop_overhead                    0.3     0.5     0.6     0.4     0.3     0.3\n",
    "\n",
    "(Measured from the macOS 64-bit builds found at python.org)\n",
    "```"
   ]
  },
  {
   "cell_type": "markdown",
   "metadata": {
    "slideshow": {
     "slide_type": "slide"
    }
   },
   "source": [
    "# Other Improvements\n",
    "* Asyncio.run()\n",
    "* python -m asyncio\n",
    "* Asyncio tasks can now be named\n",
    "* functools.lru_cache() can now be used as a straight decorator"
   ]
  },
  {
   "cell_type": "markdown",
   "metadata": {
    "slideshow": {
     "slide_type": "slide"
    }
   },
   "source": [
    "# asyncio run API stable\n",
    "\n",
    "asyncio.run() has graduated from the provisional to stable API. This function can be used to execute a coroutine and return the result while automatically managing the event loop. For example:"
   ]
  },
  {
   "cell_type": "markdown",
   "metadata": {
    "slideshow": {
     "slide_type": "slide"
    }
   },
   "source": [
    "# asyncio before\n",
    "```python\n",
    "import asyncio\n",
    "\n",
    "async def main():\n",
    "    await asyncio.sleep(0)\n",
    "    return 42\n",
    "\n",
    "loop = asyncio.new_event_loop()\n",
    "asyncio.set_event_loop(loop)\n",
    "try:\n",
    "    loop.run_until_complete(main())\n",
    "finally:\n",
    "    asyncio.set_event_loop(None)\n",
    "    loop.close()\n",
    "```"
   ]
  },
  {
   "cell_type": "markdown",
   "metadata": {
    "slideshow": {
     "slide_type": "slide"
    }
   },
   "source": [
    "# asyncio now\n",
    "```python\n",
    "import asyncio\n",
    "\n",
    "async def main():\n",
    "    await asyncio.sleep(0)\n",
    "    return 42\n",
    "\n",
    "asyncio.run(main())\n",
    "```"
   ]
  },
  {
   "cell_type": "markdown",
   "metadata": {
    "slideshow": {
     "slide_type": "slide"
    }
   },
   "source": [
    "# Asyncio python repl\n",
    "\n",
    "python -m asyncio\n",
    "\n",
    "```python\n",
    "$ python -m asyncio\n",
    "asyncio REPL 3.8.0\n",
    "Use \"await\" directly instead of \"asyncio.run()\".\n",
    "Type \"help\", \"copyright\", \"credits\" or \"license\" for more information.\n",
    ">>> import asyncio\n",
    ">>> await asyncio.sleep(10, result='hello')\n",
    "hello\n",
    "\n",
    "```"
   ]
  },
  {
   "cell_type": "markdown",
   "metadata": {
    "slideshow": {
     "slide_type": "slide"
    }
   },
   "source": [
    "# Asyncio tasks naming\n",
    "\n",
    "Asyncio tasks can now be named, either by passing the name keyword argument to asyncio.create_task() or the create_task() event loop method, or by calling the set_name() method on the task object. The task name is visible in the repr() output of asyncio.Task and can also be retrieved using the get_name() method. \n",
    "\n",
    "This is very useful when using asyncio.gather(*), if you wish to find a specific task or cancel it.\n",
    "\n"
   ]
  },
  {
   "cell_type": "markdown",
   "metadata": {
    "slideshow": {
     "slide_type": "slide"
    }
   },
   "source": [
    "# functools.lru_cache() \n",
    "\n",
    "The lru_cache decorator can be used wrap an expensive, computationally-intensive function with a Least Recently Used cache. This allows function calls to be memoized, so that future calls with the same parameters can return instantly instead of having to be recomputed.\n",
    "\n",
    "Since a dictionary is used to cache results, the positional and keyword arguments to the function must be hashable.\n",
    "\n",
    "Used as follows:\n",
    "```python\n",
    "\n",
    "@lru_cache\n",
    "def count_vowels(sentence):\n",
    "    sentence = sentence.casefold()\n",
    "    return sum(sentence.count(vowel) for vowel in 'aeiou')\n",
    "\n",
    "```\n"
   ]
  },
  {
   "cell_type": "code",
   "execution_count": 17,
   "metadata": {
    "slideshow": {
     "slide_type": "slide"
    }
   },
   "outputs": [
    {
     "name": "stdout",
     "output_type": "stream",
     "text": [
      "Duration: 0:00:02.621216\n",
      "Duration: 0:00:03.204066\n",
      "Duration: 0:00:02.464019\n"
     ]
    }
   ],
   "source": [
    "#Without lru_cache\n",
    "from datetime import datetime\n",
    "\n",
    "\n",
    "def fib(n):\n",
    "  if n < 2:\n",
    "    return 1\n",
    "  return fib(n-1) + fib(n-2)\n",
    "\n",
    "# First execution\n",
    "start_time = datetime.now()\n",
    "fib(34)\n",
    "end_time = datetime.now()\n",
    "print('Duration: {}'.format(end_time - start_time))\n",
    "\n",
    "# Second execution\n",
    "start_time = datetime.now()\n",
    "fib(34)\n",
    "end_time = datetime.now()\n",
    "print('Duration: {}'.format(end_time - start_time))\n",
    "\n",
    "\n",
    "# Third execution\n",
    "start_time = datetime.now()\n",
    "fib(34)\n",
    "end_time = datetime.now()\n",
    "print('Duration: {}'.format(end_time - start_time))"
   ]
  },
  {
   "cell_type": "code",
   "execution_count": 18,
   "metadata": {
    "slideshow": {
     "slide_type": "slide"
    }
   },
   "outputs": [
    {
     "name": "stdout",
     "output_type": "stream",
     "text": [
      "Duration: 0:00:04.021176\n",
      "Duration: 0:00:00.000102\n",
      "Duration: 0:00:00.000460\n"
     ]
    }
   ],
   "source": [
    "#previously\n",
    "import functools\n",
    "from datetime import datetime\n",
    "\n",
    "@functools.lru_cache(maxsize=128)\n",
    "def fib_lru(n):\n",
    "  if n < 2:\n",
    "    return 1\n",
    "  return fib(n-1) + fib(n-2)\n",
    "\n",
    "# First execution\n",
    "start_time = datetime.now()\n",
    "fib_lru(34)\n",
    "end_time = datetime.now()\n",
    "print('Duration: {}'.format(end_time - start_time))\n",
    "\n",
    "# Second execution\n",
    "start_time = datetime.now()\n",
    "fib_lru(34)\n",
    "end_time = datetime.now()\n",
    "print('Duration: {}'.format(end_time - start_time))\n",
    "\n",
    "# Third execution\n",
    "start_time = datetime.now()\n",
    "fib_lru(34)\n",
    "end_time = datetime.now()\n",
    "print('Duration: {}'.format(end_time - start_time))\n"
   ]
  },
  {
   "cell_type": "code",
   "execution_count": 19,
   "metadata": {
    "slideshow": {
     "slide_type": "slide"
    }
   },
   "outputs": [],
   "source": [
    "#now\n",
    "import functools\n",
    "\n",
    "@functools.lru_cache\n",
    "def fib(n):\n",
    "  if n < 2:\n",
    "    return 1\n",
    "  return fib(n-1) + fib(n-2)"
   ]
  },
  {
   "cell_type": "markdown",
   "metadata": {
    "slideshow": {
     "slide_type": "slide"
    }
   },
   "source": [
    "# Lessons from Asyncio...\n",
    "\n",
    "## Quick Intro\n",
    "```python\n",
    ">>> import asyncio\n",
    "\n",
    ">>> async def main():\n",
    "...     print('hello')\n",
    "...     await asyncio.sleep(1)\n",
    "...     print('world')\n",
    "\n",
    ">>> asyncio.run(main())\n",
    "hello\n",
    "world\n",
    "```"
   ]
  },
  {
   "cell_type": "markdown",
   "metadata": {
    "slideshow": {
     "slide_type": "slide"
    }
   },
   "source": [
    "# Example\n",
    "```python\n",
    "\n",
    "import asyncio\n",
    "import asyncpg\n",
    "\n",
    "async def run():\n",
    "    conn = await asyncpg.connect(user='user', password='password',\n",
    "                                 database='database', host='127.0.0.1')\n",
    "    values = await conn.fetch('''SELECT * FROM mytable''')\n",
    "    await conn.close()\n",
    "\n",
    "loop = asyncio.get_event_loop()\n",
    "loop.run_until_complete(run())\n",
    "\n",
    "```"
   ]
  },
  {
   "cell_type": "markdown",
   "metadata": {
    "slideshow": {
     "slide_type": "slide"
    }
   },
   "source": [
    "# Currently Running Event Loop\n",
    "\n",
    "This is a problem with frameworks, libraries and jupyter notebook.\n",
    "\n",
    "Event Loop might be started already."
   ]
  },
  {
   "cell_type": "code",
   "execution_count": 20,
   "metadata": {
    "slideshow": {
     "slide_type": "slide"
    }
   },
   "outputs": [
    {
     "ename": "RuntimeError",
     "evalue": "Cannot run the event loop while another loop is running",
     "output_type": "error",
     "traceback": [
      "\u001b[0;31m---------------------------------------------------------------------------\u001b[0m",
      "\u001b[0;31mRuntimeError\u001b[0m                              Traceback (most recent call last)",
      "\u001b[0;32m<ipython-input-20-2be10321e3d9>\u001b[0m in \u001b[0;36m<module>\u001b[0;34m\u001b[0m\n\u001b[1;32m      9\u001b[0m \u001b[0masyncio\u001b[0m\u001b[0;34m.\u001b[0m\u001b[0mset_event_loop\u001b[0m\u001b[0;34m(\u001b[0m\u001b[0mloop\u001b[0m\u001b[0;34m)\u001b[0m\u001b[0;34m\u001b[0m\u001b[0;34m\u001b[0m\u001b[0m\n\u001b[1;32m     10\u001b[0m \u001b[0;32mtry\u001b[0m\u001b[0;34m:\u001b[0m\u001b[0;34m\u001b[0m\u001b[0;34m\u001b[0m\u001b[0m\n\u001b[0;32m---> 11\u001b[0;31m     \u001b[0mloop\u001b[0m\u001b[0;34m.\u001b[0m\u001b[0mrun_until_complete\u001b[0m\u001b[0;34m(\u001b[0m\u001b[0mmain\u001b[0m\u001b[0;34m(\u001b[0m\u001b[0;34m)\u001b[0m\u001b[0;34m)\u001b[0m\u001b[0;34m\u001b[0m\u001b[0;34m\u001b[0m\u001b[0m\n\u001b[0m\u001b[1;32m     12\u001b[0m \u001b[0;32mfinally\u001b[0m\u001b[0;34m:\u001b[0m\u001b[0;34m\u001b[0m\u001b[0;34m\u001b[0m\u001b[0m\n\u001b[1;32m     13\u001b[0m     \u001b[0masyncio\u001b[0m\u001b[0;34m.\u001b[0m\u001b[0mset_event_loop\u001b[0m\u001b[0;34m(\u001b[0m\u001b[0;32mNone\u001b[0m\u001b[0;34m)\u001b[0m\u001b[0;34m\u001b[0m\u001b[0;34m\u001b[0m\u001b[0m\n",
      "\u001b[0;32m/usr/local/lib/python3.8/asyncio/base_events.py\u001b[0m in \u001b[0;36mrun_until_complete\u001b[0;34m(self, future)\u001b[0m\n\u001b[1;32m    593\u001b[0m         \u001b[0mfuture\u001b[0m\u001b[0;34m.\u001b[0m\u001b[0madd_done_callback\u001b[0m\u001b[0;34m(\u001b[0m\u001b[0m_run_until_complete_cb\u001b[0m\u001b[0;34m)\u001b[0m\u001b[0;34m\u001b[0m\u001b[0;34m\u001b[0m\u001b[0m\n\u001b[1;32m    594\u001b[0m         \u001b[0;32mtry\u001b[0m\u001b[0;34m:\u001b[0m\u001b[0;34m\u001b[0m\u001b[0;34m\u001b[0m\u001b[0m\n\u001b[0;32m--> 595\u001b[0;31m             \u001b[0mself\u001b[0m\u001b[0;34m.\u001b[0m\u001b[0mrun_forever\u001b[0m\u001b[0;34m(\u001b[0m\u001b[0;34m)\u001b[0m\u001b[0;34m\u001b[0m\u001b[0;34m\u001b[0m\u001b[0m\n\u001b[0m\u001b[1;32m    596\u001b[0m         \u001b[0;32mexcept\u001b[0m\u001b[0;34m:\u001b[0m\u001b[0;34m\u001b[0m\u001b[0;34m\u001b[0m\u001b[0m\n\u001b[1;32m    597\u001b[0m             \u001b[0;32mif\u001b[0m \u001b[0mnew_task\u001b[0m \u001b[0;32mand\u001b[0m \u001b[0mfuture\u001b[0m\u001b[0;34m.\u001b[0m\u001b[0mdone\u001b[0m\u001b[0;34m(\u001b[0m\u001b[0;34m)\u001b[0m \u001b[0;32mand\u001b[0m \u001b[0;32mnot\u001b[0m \u001b[0mfuture\u001b[0m\u001b[0;34m.\u001b[0m\u001b[0mcancelled\u001b[0m\u001b[0;34m(\u001b[0m\u001b[0;34m)\u001b[0m\u001b[0;34m:\u001b[0m\u001b[0;34m\u001b[0m\u001b[0;34m\u001b[0m\u001b[0m\n",
      "\u001b[0;32m/usr/local/lib/python3.8/asyncio/base_events.py\u001b[0m in \u001b[0;36mrun_forever\u001b[0;34m(self)\u001b[0m\n\u001b[1;32m    550\u001b[0m             \u001b[0;32mraise\u001b[0m \u001b[0mRuntimeError\u001b[0m\u001b[0;34m(\u001b[0m\u001b[0;34m'This event loop is already running'\u001b[0m\u001b[0;34m)\u001b[0m\u001b[0;34m\u001b[0m\u001b[0;34m\u001b[0m\u001b[0m\n\u001b[1;32m    551\u001b[0m         \u001b[0;32mif\u001b[0m \u001b[0mevents\u001b[0m\u001b[0;34m.\u001b[0m\u001b[0m_get_running_loop\u001b[0m\u001b[0;34m(\u001b[0m\u001b[0;34m)\u001b[0m \u001b[0;32mis\u001b[0m \u001b[0;32mnot\u001b[0m \u001b[0;32mNone\u001b[0m\u001b[0;34m:\u001b[0m\u001b[0;34m\u001b[0m\u001b[0;34m\u001b[0m\u001b[0m\n\u001b[0;32m--> 552\u001b[0;31m             raise RuntimeError(\n\u001b[0m\u001b[1;32m    553\u001b[0m                 'Cannot run the event loop while another loop is running')\n\u001b[1;32m    554\u001b[0m         \u001b[0mself\u001b[0m\u001b[0;34m.\u001b[0m\u001b[0m_set_coroutine_origin_tracking\u001b[0m\u001b[0;34m(\u001b[0m\u001b[0mself\u001b[0m\u001b[0;34m.\u001b[0m\u001b[0m_debug\u001b[0m\u001b[0;34m)\u001b[0m\u001b[0;34m\u001b[0m\u001b[0;34m\u001b[0m\u001b[0m\n",
      "\u001b[0;31mRuntimeError\u001b[0m: Cannot run the event loop while another loop is running"
     ]
    }
   ],
   "source": [
    "# asyncio before\n",
    "import asyncio\n",
    "\n",
    "async def main():\n",
    "    await asyncio.sleep(0)\n",
    "    return 42\n",
    "\n",
    "loop = asyncio.new_event_loop()\n",
    "asyncio.set_event_loop(loop)\n",
    "try:\n",
    "    loop.run_until_complete(main())\n",
    "finally:\n",
    "    asyncio.set_event_loop(None)\n",
    "    loop.close()"
   ]
  },
  {
   "cell_type": "markdown",
   "metadata": {
    "slideshow": {
     "slide_type": "slide"
    }
   },
   "source": [
    "# Mitigate currently running event loop\n",
    "\n",
    "\n",
    "## Use currently running event loop\n",
    "```python\n",
    "import asyncio\n",
    "\n",
    "loop = asyncio.get_event_loop()\n",
    "\n",
    "```\n",
    "\n",
    "Be aware though that asyncio.run_until_complete() might not work, if other call running already, can only run once at a time.\n",
    "\n",
    "\n",
    "## pip3 install nest_asyncio\n",
    "This example is from slack python client (https://github.com/slackapi/python-slackclient/issues/429)\n",
    "\n",
    "```python\n",
    "import asyncio\n",
    "\n",
    "import nest_asyncio\n",
    "import slack\n",
    "\n",
    "nest_asyncio.apply()\n",
    "\n",
    "token = ...\n",
    "client = slack.WebClient(token=token)\n",
    "\n",
    "client.chat_postMessage(channel=\"channel\", text=\"hello\")\n",
    "```\n",
    "\n"
   ]
  },
  {
   "cell_type": "markdown",
   "metadata": {
    "slideshow": {
     "slide_type": "slide"
    }
   },
   "source": [
    "\n",
    "## Pass event loop to framework\n",
    "\n",
    "This example is from slack python client (https://github.com/slackapi/python-slackclient/issues/429)\n",
    "\n",
    "```python\n",
    "import asyncio\n",
    "\n",
    "import slack\n",
    "\n",
    "loop = asyncio.get_event_loop()\n",
    "token = ...\n",
    "client = slack.WebClient(token=token, loop=loop)\n",
    "\n",
    "async def send_message(message=\"\"):\n",
    "    await client.chat_postMessage(channel=\"channel\", text=\"hello\")\n",
    "\n",
    "\n",
    "```\n",
    "\n"
   ]
  },
  {
   "cell_type": "markdown",
   "metadata": {},
   "source": [
    "# Event Loop not started -  can pass event loop before server start\n",
    "Example from Sanic framework (https://github.com/huge-success/sanic)\n",
    "\n",
    "```python\n",
    "\n",
    "@app.listener('before_server_start')\n",
    "async def setup_db(app, loop):\n",
    "    app.db = await db_setup()\n",
    "\n",
    "@app.listener('after_server_start')\n",
    "async def notify_server_started(app, loop):\n",
    "    print('Server successfully started!')\n",
    "\n",
    "@app.listener('before_server_stop')\n",
    "async def notify_server_stopping(app, loop):\n",
    "    print('Server shutting down!')\n",
    "\n",
    "@app.listener('after_server_stop')\n",
    "async def close_db(app, loop):\n",
    "    await app.db.close()\n",
    "\n",
    "```"
   ]
  },
  {
   "cell_type": "markdown",
   "metadata": {
    "slideshow": {
     "slide_type": "slide"
    }
   },
   "source": [
    "# Event loop is pluggable - Uvloop\n",
    "\n",
    "uvloop is a fast, drop-in replacement of the built-in asyncio event loop. uvloop is implemented in Cython and uses libuv under the hood.\n",
    "\n",
    "pip install uvloop\n",
    "\n",
    "```python\n",
    "\n",
    "import asyncio\n",
    "import uvloop\n",
    "\n",
    "async def main():\n",
    "    # Main entry-point.\n",
    "    ...\n",
    "\n",
    "uvloop.install()\n",
    "asyncio.run(main())\n",
    "\n",
    "```\n",
    "http://magic.io/blog/uvloop-blazing-fast-python-networking/"
   ]
  },
  {
   "cell_type": "markdown",
   "metadata": {
    "slideshow": {
     "slide_type": "slide"
    }
   },
   "source": [
    "![alt text](uvloop.png \"Title\")"
   ]
  },
  {
   "cell_type": "markdown",
   "metadata": {
    "slideshow": {
     "slide_type": "slide"
    }
   },
   "source": [
    "# Use tasks with asyncio.gather(*)\n",
    "\n",
    "##Tasks\n",
    "\n",
    "Wrap the coro coroutine into a Task and schedule its execution. Return the Task object.\n",
    "\n",
    "If name is not None, it is set as the name of the task using Task.set_name().\n",
    "\n",
    "The task is executed in the loop returned by get_running_loop(), RuntimeError is raised if there is no running loop in current thread.\n",
    "\n",
    "This function has been added in Python 3.7. Prior to Python 3.7, the low-level asyncio.ensure_future() function can be used instead:\n",
    "\n",
    "```python\n",
    "async def coro():\n",
    "    ...\n",
    "\n",
    "# In Python 3.7+\n",
    "task = asyncio.create_task(coro())\n",
    "...\n",
    "\n",
    "# This works in all Python versions but is less readable\n",
    "task = asyncio.ensure_future(coro())\n",
    "```\n"
   ]
  },
  {
   "cell_type": "markdown",
   "metadata": {
    "slideshow": {
     "slide_type": "slide"
    }
   },
   "source": [
    "## Gather\n",
    "\n",
    "awaitable asyncio.gather(*aws, loop=None, return_exceptions=False)\n",
    "\n",
    "Run awaitable objects in the aws sequence concurrently.\n",
    "\n",
    "If any awaitable in aws is a coroutine, it is automatically scheduled as a Task.\n",
    "\n",
    "If all awaitables are completed successfully, the result is an aggregate list of returned values. The order of result values corresponds to the order of awaitables in aws."
   ]
  },
  {
   "cell_type": "code",
   "execution_count": null,
   "metadata": {
    "slideshow": {
     "slide_type": "slide"
    }
   },
   "outputs": [],
   "source": [
    "import asyncio\n",
    "\n",
    "async def sleep_for_a_while(sleep_time:int):\n",
    "    await asyncio.sleep(sleep_time)\n",
    "    print(f\"Done sleeping {sleep_time}\")\n",
    "    \n",
    "async def gather_tasks_run() -> list:\n",
    "        tasks = list()\n",
    "\n",
    "        for x in range(0,100):\n",
    "            tasks.append(sleep_for_a_while(x))\n",
    "\n",
    "        results = await asyncio.gather(*tasks)\n",
    "\n",
    "        return results\n",
    "    \n",
    "# asyncio.run(gather_tasks_run(), loop=asyncio.get_event_loop())"
   ]
  },
  {
   "cell_type": "markdown",
   "metadata": {
    "slideshow": {
     "slide_type": "slide"
    }
   },
   "source": [
    "# Gather and other asyncio features are not 'Not thread safe'\n",
    "\n",
    "Some features and functions of asyncio allow for threadsafe execution.\n",
    "\n",
    "But asyncio.gather for instance is not threadsafe when running concurrently. Be careful of this.\n",
    "\n",
    "```python\n",
    "\n",
    "import asyncio\n",
    "import requests\n",
    "\n",
    "state_dict: dict = dict(\n",
    "                         counter=0\n",
    ")\n",
    "\n",
    "async def sleep_for_a_while(sleep_time:int):\n",
    "    resp = requests.get('https://api.github.com')\n",
    "    state_dict[\"counter\"] = state_dict[\"counter\"]  + 1\n",
    "    await asyncio.sleep(sleep_time)\n",
    "    \n",
    "async def api_calls_pipeline(self, all_data) -> list:\n",
    "        tasks = list()\n",
    "\n",
    "        ffor x in range(0,50):\n",
    "            tasks.append(sleep_for_a_while(x))\n",
    "\n",
    "        results = await asyncio.gather(*tasks)\n",
    "\n",
    "        return results\n",
    "    \n",
    "```\n",
    "\n",
    "\n"
   ]
  },
  {
   "cell_type": "markdown",
   "metadata": {
    "slideshow": {
     "slide_type": "slide"
    }
   },
   "source": [
    "# Semaphores\n",
    "\n",
    "A semaphore manages an internal counter which is decremented by each acquire() call and incremented by each release() call. The counter can never go below zero; when acquire() finds that it is zero, it blocks, waiting until some task calls release().\n",
    "\n",
    "The optional value argument gives the initial value for the internal counter (1 by default). If the given value is less than 0 a ValueError is raised.\n",
    "\n",
    "Deprecated since version 3.8, will be removed in version 3.10: The loop parameter.\n",
    "\n",
    "The preferred way to use a Semaphore is an async with statement:\n"
   ]
  },
  {
   "cell_type": "markdown",
   "metadata": {
    "slideshow": {
     "slide_type": "slide"
    }
   },
   "source": [
    "# Semaphores\n",
    "\n",
    "```python\n",
    "import asyncio\n",
    "\n",
    "import aiohttp\n",
    "from async_lru import alru_cache\n",
    "\n",
    "from providers.google_geo_api.google_wifi_schema import clean_data\n",
    "\n",
    "\n",
    "class GoogleAPIClient(object):\n",
    "    url = \"https://www.googleapis.com/geolocation/v1/geolocate\"\n",
    "    api_key = \"xxxxx\"\n",
    "    params = dict(key=api_key)\n",
    "    timeout = 30\n",
    "    workers = 50\n",
    "    _semaphore = asyncio.Semaphore(workers)\n",
    "\n",
    "    def __init__(self, workers=1):\n",
    "        self.workers = workers\n",
    "        self._semaphore = asyncio.Semaphore(workers)\n",
    "\n",
    "    async def api_calls_pipeline(self, all_data) -> list:\n",
    "        tasks = list()\n",
    "\n",
    "        for item in all_data:\n",
    "            tasks.append(self.api_call(item.get(\"apscan_data\", False)))\n",
    "\n",
    "        results = await asyncio.gather(*tasks)\n",
    "\n",
    "        return results\n",
    "\n",
    "```"
   ]
  },
  {
   "cell_type": "markdown",
   "metadata": {},
   "source": [
    "```python\n",
    "    @alru_cache(maxsize=32)\n",
    "    async def api_call(self, events: list) -> tuple:\n",
    "        await self._semaphore.acquire()\n",
    "\n",
    "        json_data = dict(wifiAccessPoints=clean_data(events))\n",
    "        async with aiohttp.ClientSession() as session:\n",
    "            async with session.post(\n",
    "                self.url, json=json_data, params=self.params\n",
    "            ) as resp:\n",
    "                print(resp.status)\n",
    "                resp_json = await resp.json()\n",
    "                print(resp_json)\n",
    "                # await asyncio.sleep(0.1)\n",
    "                self._semaphore.release()\n",
    "                return resp.status, resp_json\n",
    "            \n",
    "```"
   ]
  },
  {
   "cell_type": "markdown",
   "metadata": {
    "slideshow": {
     "slide_type": "slide"
    }
   },
   "source": [
    "# Interesting asyncio projects\n",
    "\n",
    "* aiomultiprocess: https://github.com/jreese/aiomultiprocess\n",
    "* asyncpg: https://github.com/MagicStack/asyncpg    \n",
    "* aiohttp: https://aiohttp.readthedocs.io/en/stable/\n",
    "* async_lru: https://github.com/aio-libs/async_lru\n",
    "* sanic: https://github.com/huge-success/sanic/releases"
   ]
  },
  {
   "cell_type": "markdown",
   "metadata": {
    "slideshow": {
     "slide_type": "slide"
    }
   },
   "source": [
    "## Sanic\n",
    "https://github.com/huge-success/sanic/releases\n",
    "\n",
    "Sanic is a Python 3.6+ web server and web framework that's written to go fast. It allows the usage of the async/await syntax added in Python 3.5, which makes your code non-blocking and speedy.\n",
    "\n",
    "Built to mimic Flask syntax and API.\n",
    "\n",
    "Uses UvLoop as default event loop.\n",
    "\n",
    "```python\n",
    "from sanic import Sanic\n",
    "from sanic.response import json\n",
    "\n",
    "app = Sanic()\n",
    "\n",
    "@app.route('/')\n",
    "async def test(request):\n",
    "    return json({'hello': 'world'})\n",
    "\n",
    "if __name__ == '__main__':\n",
    "    app.run(host='0.0.0.0', port=8000)\n",
    "    \n",
    "```\n",
    "\n"
   ]
  },
  {
   "cell_type": "markdown",
   "metadata": {
    "slideshow": {
     "slide_type": "slide"
    }
   },
   "source": [
    "# aiomultiprocess\n",
    "\n",
    "Facebook project\n",
    "\n",
    "On their own, AsyncIO and multiprocessing are useful, but limited: AsyncIO still can't exceed the speed of GIL, and multiprocessing only works on one task at a time. But together, they can fully realize their true potential.\n",
    "\n",
    "aiomultiprocess presents a simple interface, while running a full AsyncIO event loop on each child process, enabling levels of concurrency never before seen in a Python application. Each child process can execute multiple coroutines at once, limited only by the workload and number of cores available."
   ]
  },
  {
   "cell_type": "markdown",
   "metadata": {},
   "source": [
    "## Just executing\n",
    "```python\n",
    "import asyncio\n",
    "from aiohttp import request\n",
    "from aiomultiprocess import Process\n",
    "\n",
    "async def put(url, params):\n",
    "    async with request(\"PUT\", url, params=params) as response:\n",
    "        pass\n",
    "\n",
    "async def main():\n",
    "    p = Process(target=put, args=(\"https://jreese.sh\", {}))\n",
    "    await p\n",
    "\n",
    "asyncio.run(main())\n",
    "```"
   ]
  },
  {
   "cell_type": "markdown",
   "metadata": {},
   "source": [
    "## With results\n",
    "```python\n",
    "import asyncio\n",
    "from aiohttp import request\n",
    "from aiomultiprocess import Worker\n",
    "\n",
    "async def get(url):\n",
    "    async with request(\"GET\", url) as response:\n",
    "        return await response.text(\"utf-8\")\n",
    "\n",
    "async def main():\n",
    "    p = Worker(target=get, args=(\"https://jreese.sh\", ))\n",
    "    response = await p\n",
    "\n",
    "asyncio.run(main())\n",
    "```"
   ]
  },
  {
   "cell_type": "markdown",
   "metadata": {
    "slideshow": {
     "slide_type": "slide"
    }
   },
   "source": [
    "# Sources\n",
    "* https://clusterdata.nl/bericht/news-item/the-best-new-features-in-python-3-8/\n",
    "* https://docs.python.org/3/whatsnew/3.8.html\n",
    "* https://realpython.com/python38-new-features/#positional-only-arguments\n",
    "* https://medium.com/fintechexplained/awesome-new-python-3-8-features-ed027416f2a5\n",
    "* https://www.cameronmacleod.com/blog/python-lru-cache\n",
    "* https://github.com/huge-success/sanic\n"
   ]
  },
  {
   "cell_type": "code",
   "execution_count": null,
   "metadata": {},
   "outputs": [],
   "source": []
  },
  {
   "cell_type": "code",
   "execution_count": null,
   "metadata": {},
   "outputs": [],
   "source": []
  }
 ],
 "metadata": {
  "celltoolbar": "Slideshow",
  "kernelspec": {
   "display_name": "Python 3",
   "language": "python",
   "name": "python3"
  },
  "language_info": {
   "codemirror_mode": {
    "name": "ipython",
    "version": 3
   },
   "file_extension": ".py",
   "mimetype": "text/x-python",
   "name": "python",
   "nbconvert_exporter": "python",
   "pygments_lexer": "ipython3",
   "version": "3.8.0"
  }
 },
 "nbformat": 4,
 "nbformat_minor": 2
}
